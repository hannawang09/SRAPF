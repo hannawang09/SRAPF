{
 "cells": [
  {
   "cell_type": "markdown",
   "id": "bcd00c6a",
   "metadata": {},
   "source": [
    "# Robust Few-Shot Vision-Language Model Adaptation\n",
    "\n",
    "This notebook demonstrates how to perform **partial finetuning (PFT)** on CLIP for few-shot learning and evaluate the model on both ID and OOD datasets. Results are comparable to Table 3 in the paper.\n",
    "1. model\n",
    "    - CLIP ViT-B/16\n",
    "2. few-shot setting\n",
    "    - 16 shots\n",
    "3. PFT setting\n",
    "    - top-4 blocks\n",
    "4. dataset\n",
    "    - ImageNet-1k (as ID dataset)\n",
    "    - ImageNet-V2 (as OOD dataset)\n",
    "    - ImageNet-S (as OOD dataset)\n",
    "    - ImageNet-A (as OOD dataset)\n",
    "    - ImageNet-R (as OOD dataset)\n",
    "5. acknowledgements\n",
    "    - This code is built on [LCA-on-the-line(ICML'24)](https://github.com/ElvishElvis/LCA-on-the-line) and [SWAT(CVPR'25)](https://github.com/tian1327/SWAT).\n"
   ]
  },
  {
   "cell_type": "code",
   "execution_count": null,
   "id": "initial_id",
   "metadata": {
    "collapsed": true
   },
   "outputs": [],
   "source": [
    "import torch\n",
    "import numpy as np\n",
    "import random\n",
    "\n",
    "# Set the random seed for reproducibility\n",
    "training_seed = 1\n",
    "data_seed = 1\n",
    "\n",
    "random.seed(data_seed)\n",
    "np.random.seed(training_seed)\n",
    "torch.manual_seed(training_seed)\n",
    "torch.cuda.manual_seed_all(training_seed)\n",
    "torch.backends.cudnn.deterministic = True\n",
    "torch.backends.cudnn.benchmark = False"
   ]
  },
  {
   "cell_type": "markdown",
   "id": "1c0bb82c",
   "metadata": {},
   "source": [
    "## Partial finetuning"
   ]
  },
  {
   "cell_type": "markdown",
   "id": "49556cd682fcaf59",
   "metadata": {},
   "source": [
    "1. Load the CLIP model and prepare the dataset"
   ]
  },
  {
   "cell_type": "code",
   "execution_count": 2,
   "id": "fb4656d8",
   "metadata": {
    "ExecuteTime": {
     "end_time": "2025-05-21T03:36:13.450919Z",
     "start_time": "2025-05-21T03:36:00.186766Z"
    }
   },
   "outputs": [
    {
     "name": "stdout",
     "output_type": "stream",
     "text": [
      "Loading few-shot data from data_resource/imagenet/fewshot16_seed1.txt.\n"
     ]
    },
    {
     "data": {
      "text/plain": [
       "(16000, 50000, 50000, 7500, 30000, 50889, 10000)"
      ]
     },
     "execution_count": 2,
     "metadata": {},
     "output_type": "execute_result"
    }
   ],
   "source": [
    "import clip.clip as clip\n",
    "import datasets\n",
    "\n",
    "# Load the CLIP ViT-B/16 model\n",
    "clip_model, train_preprocess, test_preprocess= clip.load('ViT-B/16', jit=False)\n",
    "\n",
    "\n",
    "# Prepare dataset and dataloader\n",
    "root = 'PUT YOUR PATH HERE' # Path to the ImageNet dataset\n",
    "num_shots = 16 # Number of shots for few-shot learning, options: 4, 8, 16\n",
    "imagenet_train, text_name = datasets.build_imagenet_few_shot_dataset('imagenet', 'train', data_seed, train_preprocess, root=root, num_shots=num_shots)\n",
    "imagenet_val, _ = datasets.build_imagenet_dataset('imagenet', 'val', test_preprocess, root=root)\n",
    "# ID testset\n",
    "imagenet_test, _ = datasets.build_imagenet_dataset('imagenet', 'test', test_preprocess, root=root)\n",
    "# OOD testsets\n",
    "imagenet_a_test, _ = datasets.build_imagenet_dataset('imagenet_a', 'test', test_preprocess, root=root)\n",
    "imagenet_r_test, _ = datasets.build_imagenet_dataset('imagenet_r', 'test', test_preprocess, root=root)\n",
    "imagenet_sketch_test, _ = datasets.build_imagenet_dataset('imagenet_sketch', 'test', test_preprocess, root=root)\n",
    "imagenetv2_test, _ = datasets.build_imagenet_dataset('imagenetv2', 'test', test_preprocess, root=root)\n",
    "\n",
    "batch_size = 64\n",
    "train_dataloader = torch.utils.data.DataLoader(\n",
    "    dataset=imagenet_train,\n",
    "    batch_size=batch_size,\n",
    "    shuffle=True,\n",
    "    num_workers=8,\n",
    "    pin_memory=True)\n",
    "val_dataloader = torch.utils.data.DataLoader(\n",
    "    dataset=imagenet_test,\n",
    "    batch_size=64,\n",
    "    shuffle=False,\n",
    "    num_workers=8,\n",
    "    pin_memory=False)\n",
    "\n",
    "len(imagenet_train), len(imagenet_val), len(imagenet_test), len(imagenet_a_test), len(imagenet_r_test), len(imagenet_sketch_test), len(imagenetv2_test)"
   ]
  },
  {
   "cell_type": "markdown",
   "id": "4be071a455bfa4f7",
   "metadata": {},
   "source": [
    "2. Frozen the clip model except the top-X blocks of visual encoder."
   ]
  },
  {
   "cell_type": "code",
   "execution_count": 3,
   "id": "ae1e1324d47d1e78",
   "metadata": {
    "ExecuteTime": {
     "end_time": "2025-05-19T10:49:26.172622Z",
     "start_time": "2025-05-19T10:49:26.167565Z"
    }
   },
   "outputs": [
    {
     "name": "stdout",
     "output_type": "stream",
     "text": [
      "Finetune top-4 blocks of the visual transformer.\n",
      "visual.proj\n",
      "visual.transformer.resblocks.8.attn.in_proj_weight\n",
      "visual.transformer.resblocks.8.attn.in_proj_bias\n",
      "visual.transformer.resblocks.8.attn.out_proj.weight\n",
      "visual.transformer.resblocks.8.attn.out_proj.bias\n",
      "visual.transformer.resblocks.8.ln_1.weight\n",
      "visual.transformer.resblocks.8.ln_1.bias\n",
      "visual.transformer.resblocks.8.mlp.c_fc.weight\n",
      "visual.transformer.resblocks.8.mlp.c_fc.bias\n",
      "visual.transformer.resblocks.8.mlp.c_proj.weight\n",
      "visual.transformer.resblocks.8.mlp.c_proj.bias\n",
      "visual.transformer.resblocks.8.ln_2.weight\n",
      "visual.transformer.resblocks.8.ln_2.bias\n",
      "visual.transformer.resblocks.9.attn.in_proj_weight\n",
      "visual.transformer.resblocks.9.attn.in_proj_bias\n",
      "visual.transformer.resblocks.9.attn.out_proj.weight\n",
      "visual.transformer.resblocks.9.attn.out_proj.bias\n",
      "visual.transformer.resblocks.9.ln_1.weight\n",
      "visual.transformer.resblocks.9.ln_1.bias\n",
      "visual.transformer.resblocks.9.mlp.c_fc.weight\n",
      "visual.transformer.resblocks.9.mlp.c_fc.bias\n",
      "visual.transformer.resblocks.9.mlp.c_proj.weight\n",
      "visual.transformer.resblocks.9.mlp.c_proj.bias\n",
      "visual.transformer.resblocks.9.ln_2.weight\n",
      "visual.transformer.resblocks.9.ln_2.bias\n",
      "visual.transformer.resblocks.10.attn.in_proj_weight\n",
      "visual.transformer.resblocks.10.attn.in_proj_bias\n",
      "visual.transformer.resblocks.10.attn.out_proj.weight\n",
      "visual.transformer.resblocks.10.attn.out_proj.bias\n",
      "visual.transformer.resblocks.10.ln_1.weight\n",
      "visual.transformer.resblocks.10.ln_1.bias\n",
      "visual.transformer.resblocks.10.mlp.c_fc.weight\n",
      "visual.transformer.resblocks.10.mlp.c_fc.bias\n",
      "visual.transformer.resblocks.10.mlp.c_proj.weight\n",
      "visual.transformer.resblocks.10.mlp.c_proj.bias\n",
      "visual.transformer.resblocks.10.ln_2.weight\n",
      "visual.transformer.resblocks.10.ln_2.bias\n",
      "visual.transformer.resblocks.11.attn.in_proj_weight\n",
      "visual.transformer.resblocks.11.attn.in_proj_bias\n",
      "visual.transformer.resblocks.11.attn.out_proj.weight\n",
      "visual.transformer.resblocks.11.attn.out_proj.bias\n",
      "visual.transformer.resblocks.11.ln_1.weight\n",
      "visual.transformer.resblocks.11.ln_1.bias\n",
      "visual.transformer.resblocks.11.mlp.c_fc.weight\n",
      "visual.transformer.resblocks.11.mlp.c_fc.bias\n",
      "visual.transformer.resblocks.11.mlp.c_proj.weight\n",
      "visual.transformer.resblocks.11.mlp.c_proj.bias\n",
      "visual.transformer.resblocks.11.ln_2.weight\n",
      "visual.transformer.resblocks.11.ln_2.bias\n",
      "visual.ln_post.weight\n",
      "visual.ln_post.bias\n"
     ]
    }
   ],
   "source": [
    "def frozen(model, ft_topk_blks):\n",
    "    for param in model.parameters():\n",
    "        param.requires_grad = False\n",
    "\n",
    "    if ft_topk_blks == -1:\n",
    "        print('Finetune all blocks of the visual transformer.')\n",
    "        for param in model.visual.parameters():\n",
    "            param.requires_grad = True\n",
    "    else:\n",
    "        print(f'Finetune top-{ft_topk_blks} blocks of the visual transformer.')\n",
    "        for blk in model.visual.transformer.resblocks[-ft_topk_blks:]:\n",
    "            for param in blk.parameters():\n",
    "                param.requires_grad = True\n",
    "\n",
    "        for param in model.visual.ln_post.parameters():\n",
    "            param.requires_grad = True\n",
    "        model.visual.proj.requires_grad = True\n",
    "\n",
    "# In our experiments, we adopt PFT on the top-4 blocks as the default setting.\n",
    "ft_topk_blks = 4\n",
    "frozen(clip_model, ft_topk_blks)\n",
    "\n",
    "# double check the parameters\n",
    "for name, param in clip_model.named_parameters():\n",
    "    if param.requires_grad:\n",
    "        print(name)"
   ]
  },
  {
   "cell_type": "markdown",
   "id": "b02c7edcc1dc68a5",
   "metadata": {},
   "source": [
    "3. Initialize the classifier with average text features of OpenAI 80 prompts."
   ]
  },
  {
   "cell_type": "code",
   "execution_count": 4,
   "id": "51b9163bd4872fbe",
   "metadata": {
    "ExecuteTime": {
     "end_time": "2025-05-19T10:49:30.532078Z",
     "start_time": "2025-05-19T10:49:30.529379Z"
    }
   },
   "outputs": [],
   "source": [
    "import torch.nn as nn\n",
    "class MyLinear(nn.Module):\n",
    "    def __init__(self, input_dim=512, num_classes=1000, bias = False):\n",
    "        super(MyLinear, self).__init__()\n",
    "\n",
    "        self.linear = nn.Linear(input_dim, num_classes, bias=bias)\n",
    "        self.num_classes = num_classes\n",
    "\n",
    "    def forward(self, x):\n",
    "        x = self.linear(x)\n",
    "\n",
    "        return x\n",
    "\n",
    "    def _init_weights(self, weights):\n",
    "        # Initialize the weights of the linear layer with the given weights\n",
    "        self.linear.weight = nn.Parameter(weights.clone())"
   ]
  },
  {
   "cell_type": "code",
   "execution_count": 5,
   "id": "e983b608",
   "metadata": {
    "ExecuteTime": {
     "end_time": "2025-05-19T10:49:33.031890Z",
     "start_time": "2025-05-19T10:49:33.026490Z"
    }
   },
   "outputs": [],
   "source": [
    "import templates\n",
    "def get_zeroshot_weights(text_name, template, logit_scale):\n",
    "    zeroshot_weights = []\n",
    "    template = getattr(templates, template)\n",
    "    for classname in text_name:\n",
    "        texts = []\n",
    "        for t in template:\n",
    "            texts.append(t(classname))\n",
    "        texts = clip.tokenize(texts).cuda()\n",
    "        embeddings = clip_model.encode_text(texts) #(80, dim)\n",
    "        embeddings /= embeddings.norm(dim=-1, keepdim=True)\n",
    "        \n",
    "        embeddings = embeddings.mean(dim=0) #(dim)\n",
    "        embeddings /= embeddings.norm()\n",
    "    \n",
    "        zeroshot_weights.append(embeddings)\n",
    "    \n",
    "    zeroshot_weights = torch.stack(zeroshot_weights, dim=0) #(1000, dim)\n",
    "    zeroshot_weights *= logit_scale.exp()\n",
    "    \n",
    "    return zeroshot_weights"
   ]
  },
  {
   "cell_type": "code",
   "execution_count": 6,
   "id": "8b23f3a4",
   "metadata": {
    "ExecuteTime": {
     "end_time": "2025-05-19T10:50:02.257719Z",
     "start_time": "2025-05-19T10:49:38.300511Z"
    }
   },
   "outputs": [
    {
     "data": {
      "text/plain": [
       "torch.Size([1000, 512])"
      ]
     },
     "execution_count": 6,
     "metadata": {},
     "output_type": "execute_result"
    }
   ],
   "source": [
    "# Set classifier\n",
    "num_classes = 1000  # Number of classes\n",
    "num_features = 512  # Number of features\n",
    "\n",
    "classifier = MyLinear(input_dim=num_features, num_classes=num_classes, bias=False)\n",
    "\n",
    "# Initialize the classifier\n",
    "logit_scale = clip_model.logit_scale\n",
    "template = 'openai_imagenet_template' # OpenAI 80 prompts\n",
    "with torch.no_grad():\n",
    "    zeroshot_weights = get_zeroshot_weights(text_name, template, logit_scale)\n",
    "classifier._init_weights(zeroshot_weights)\n",
    "\n",
    "zeroshot_weights.shape"
   ]
  },
  {
   "cell_type": "markdown",
   "id": "37a1222497555364",
   "metadata": {},
   "source": [
    "4. Define the optimizer and learning rate scheduler"
   ]
  },
  {
   "cell_type": "code",
   "execution_count": null,
   "id": "4cee20b544e1f351",
   "metadata": {
    "ExecuteTime": {
     "end_time": "2025-05-19T10:56:43.651334Z",
     "start_time": "2025-05-19T10:56:43.642408Z"
    }
   },
   "outputs": [],
   "source": [
    "from utils.scheduler import build_lr_scheduler\n",
    "\n",
    "lr_backbone = 1e-6\n",
    "lr_cls = 1e-3   # set the learning rate for the classifier\n",
    "weight_decay = 0.1\n",
    "\n",
    "# Define the optimizer\n",
    "param_groups = [\n",
    "            {\"params\": [p for name, p in clip_model.named_parameters() if p.requires_grad], \"lr\": lr_backbone},\n",
    "            {\"params\": [p for p in classifier.parameters()], \"lr\": lr_cls},\n",
    "        ]\n",
    "optimizer = torch.optim.AdamW(param_groups, lr=lr_cls, weight_decay=weight_decay, betas=(0.9, 0.999))\n",
    "\n",
    "# Define the learning rate scheduler\n",
    "num_epochs = 50\n",
    "total_iter = len(train_dataloader) * num_epochs\n",
    "warmup_iter = 18\n",
    "warmup_lr = 1e-8\n",
    "scheduler = build_lr_scheduler(optimizer,\n",
    "                               lr_scheduler=\"cosine\",\n",
    "                               warmup_iter=warmup_iter,\n",
    "                               max_iter=total_iter,\n",
    "                               warmup_type=\"linear\",\n",
    "                               warmup_lr=warmup_lr,\n",
    "                               verbose=False)"
   ]
  },
  {
   "cell_type": "markdown",
   "id": "7ddcc762a61d7512",
   "metadata": {},
   "source": [
    "5. Start training"
   ]
  },
  {
   "cell_type": "code",
   "execution_count": 11,
   "id": "92d1e9ba0e77e784",
   "metadata": {
    "ExecuteTime": {
     "end_time": "2025-05-19T12:33:09.076203Z",
     "start_time": "2025-05-19T10:56:54.530051Z"
    }
   },
   "outputs": [
    {
     "name": "stdout",
     "output_type": "stream",
     "text": [
      "Start standard finetuning ......\n"
     ]
    },
    {
     "name": "stderr",
     "output_type": "stream",
     "text": [
      "Epoch 1 / 50, loss = 0.79, acc = 0.77, val_acc = -1.00, best_val_acc = -1.00: 100%|██████████| 250/250 [00:38<00:00,  6.44it/s]\n",
      "Epoch 2 / 50, loss = 0.65, acc = 0.81, val_acc = 0.71, best_val_acc = 0.71: 100%|██████████| 250/250 [00:38<00:00,  6.47it/s]\n",
      "Epoch 3 / 50, loss = 0.64, acc = 0.84, val_acc = 0.72, best_val_acc = 0.72: 100%|██████████| 250/250 [00:39<00:00,  6.39it/s]\n",
      "Epoch 4 / 50, loss = 0.84, acc = 0.73, val_acc = 0.73, best_val_acc = 0.73: 100%|██████████| 250/250 [00:39<00:00,  6.39it/s]\n",
      "Epoch 5 / 50, loss = 0.85, acc = 0.77, val_acc = 0.73, best_val_acc = 0.73: 100%|██████████| 250/250 [00:39<00:00,  6.38it/s]\n",
      "Epoch 6 / 50, loss = 0.55, acc = 0.81, val_acc = 0.73, best_val_acc = 0.73: 100%|██████████| 250/250 [00:39<00:00,  6.38it/s]\n",
      "Epoch 7 / 50, loss = 0.53, acc = 0.81, val_acc = 0.74, best_val_acc = 0.74: 100%|██████████| 250/250 [00:39<00:00,  6.38it/s]\n",
      "Epoch 8 / 50, loss = 0.54, acc = 0.88, val_acc = 0.74, best_val_acc = 0.74: 100%|██████████| 250/250 [00:38<00:00,  6.45it/s]\n",
      "Epoch 9 / 50, loss = 0.57, acc = 0.83, val_acc = 0.74, best_val_acc = 0.74: 100%|██████████| 250/250 [00:38<00:00,  6.44it/s]\n",
      "Epoch 10 / 50, loss = 0.41, acc = 0.91, val_acc = 0.74, best_val_acc = 0.74: 100%|██████████| 250/250 [00:38<00:00,  6.44it/s]\n",
      "Epoch 11 / 50, loss = 0.37, acc = 0.86, val_acc = 0.74, best_val_acc = 0.74: 100%|██████████| 250/250 [00:39<00:00,  6.41it/s]\n",
      "Epoch 12 / 50, loss = 0.36, acc = 0.89, val_acc = 0.74, best_val_acc = 0.74: 100%|██████████| 250/250 [00:38<00:00,  6.45it/s]\n",
      "Epoch 13 / 50, loss = 0.19, acc = 0.98, val_acc = 0.74, best_val_acc = 0.74: 100%|██████████| 250/250 [00:38<00:00,  6.45it/s]\n",
      "Epoch 14 / 50, loss = 0.26, acc = 0.94, val_acc = 0.74, best_val_acc = 0.74: 100%|██████████| 250/250 [00:38<00:00,  6.42it/s]\n",
      "Epoch 15 / 50, loss = 0.18, acc = 0.98, val_acc = 0.74, best_val_acc = 0.74: 100%|██████████| 250/250 [00:38<00:00,  6.43it/s]\n",
      "Epoch 16 / 50, loss = 0.20, acc = 0.98, val_acc = 0.74, best_val_acc = 0.74: 100%|██████████| 250/250 [00:39<00:00,  6.41it/s]\n",
      "Epoch 17 / 50, loss = 0.16, acc = 0.98, val_acc = 0.74, best_val_acc = 0.74: 100%|██████████| 250/250 [00:38<00:00,  6.43it/s]\n",
      "Epoch 18 / 50, loss = 0.18, acc = 0.98, val_acc = 0.74, best_val_acc = 0.74: 100%|██████████| 250/250 [00:38<00:00,  6.43it/s]\n",
      "Epoch 19 / 50, loss = 0.16, acc = 0.98, val_acc = 0.74, best_val_acc = 0.74: 100%|██████████| 250/250 [00:38<00:00,  6.42it/s]\n",
      "Epoch 20 / 50, loss = 0.13, acc = 1.00, val_acc = 0.74, best_val_acc = 0.74: 100%|██████████| 250/250 [00:38<00:00,  6.42it/s]\n",
      "Epoch 21 / 50, loss = 0.16, acc = 0.98, val_acc = 0.74, best_val_acc = 0.74: 100%|██████████| 250/250 [00:38<00:00,  6.42it/s]\n",
      "Epoch 22 / 50, loss = 0.12, acc = 1.00, val_acc = 0.74, best_val_acc = 0.74: 100%|██████████| 250/250 [00:38<00:00,  6.42it/s]\n",
      "Epoch 23 / 50, loss = 0.12, acc = 1.00, val_acc = 0.74, best_val_acc = 0.74: 100%|██████████| 250/250 [00:39<00:00,  6.40it/s]\n",
      "Epoch 24 / 50, loss = 0.17, acc = 1.00, val_acc = 0.74, best_val_acc = 0.74: 100%|██████████| 250/250 [00:39<00:00,  6.38it/s]\n",
      "Epoch 25 / 50, loss = 0.14, acc = 0.98, val_acc = 0.74, best_val_acc = 0.74: 100%|██████████| 250/250 [00:38<00:00,  6.41it/s]\n",
      "Epoch 26 / 50, loss = 0.12, acc = 1.00, val_acc = 0.74, best_val_acc = 0.74: 100%|██████████| 250/250 [00:38<00:00,  6.43it/s]\n",
      "Epoch 27 / 50, loss = 0.14, acc = 0.98, val_acc = 0.74, best_val_acc = 0.74: 100%|██████████| 250/250 [00:38<00:00,  6.50it/s]\n",
      "Epoch 28 / 50, loss = 0.13, acc = 1.00, val_acc = 0.74, best_val_acc = 0.74: 100%|██████████| 250/250 [00:38<00:00,  6.52it/s]\n",
      "Epoch 29 / 50, loss = 0.11, acc = 1.00, val_acc = 0.74, best_val_acc = 0.74: 100%|██████████| 250/250 [00:38<00:00,  6.57it/s]\n",
      "Epoch 30 / 50, loss = 0.11, acc = 1.00, val_acc = 0.74, best_val_acc = 0.74: 100%|██████████| 250/250 [00:38<00:00,  6.54it/s]\n",
      "Epoch 31 / 50, loss = 0.10, acc = 1.00, val_acc = 0.74, best_val_acc = 0.74: 100%|██████████| 250/250 [00:38<00:00,  6.56it/s]\n",
      "Epoch 32 / 50, loss = 0.09, acc = 1.00, val_acc = 0.74, best_val_acc = 0.74: 100%|██████████| 250/250 [00:38<00:00,  6.52it/s]\n",
      "Epoch 33 / 50, loss = 0.10, acc = 1.00, val_acc = 0.74, best_val_acc = 0.74: 100%|██████████| 250/250 [00:39<00:00,  6.40it/s]\n",
      "Epoch 34 / 50, loss = 0.11, acc = 1.00, val_acc = 0.74, best_val_acc = 0.74: 100%|██████████| 250/250 [00:38<00:00,  6.48it/s]\n",
      "Epoch 35 / 50, loss = 0.08, acc = 1.00, val_acc = 0.74, best_val_acc = 0.74: 100%|██████████| 250/250 [00:38<00:00,  6.44it/s]\n",
      "Epoch 36 / 50, loss = 0.09, acc = 1.00, val_acc = 0.74, best_val_acc = 0.74: 100%|██████████| 250/250 [00:38<00:00,  6.46it/s]\n",
      "Epoch 37 / 50, loss = 0.12, acc = 1.00, val_acc = 0.74, best_val_acc = 0.74: 100%|██████████| 250/250 [00:39<00:00,  6.39it/s]\n",
      "Epoch 38 / 50, loss = 0.09, acc = 1.00, val_acc = 0.74, best_val_acc = 0.74: 100%|██████████| 250/250 [00:38<00:00,  6.45it/s]\n",
      "Epoch 39 / 50, loss = 0.11, acc = 0.98, val_acc = 0.74, best_val_acc = 0.74: 100%|██████████| 250/250 [00:40<00:00,  6.24it/s]\n",
      "Epoch 40 / 50, loss = 0.10, acc = 1.00, val_acc = 0.74, best_val_acc = 0.74: 100%|██████████| 250/250 [00:38<00:00,  6.46it/s]\n",
      "Epoch 41 / 50, loss = 0.12, acc = 1.00, val_acc = 0.74, best_val_acc = 0.74: 100%|██████████| 250/250 [00:38<00:00,  6.46it/s]\n",
      "Epoch 42 / 50, loss = 0.09, acc = 1.00, val_acc = 0.74, best_val_acc = 0.74: 100%|██████████| 250/250 [00:40<00:00,  6.22it/s]\n",
      "Epoch 43 / 50, loss = 0.11, acc = 1.00, val_acc = 0.74, best_val_acc = 0.74: 100%|██████████| 250/250 [00:39<00:00,  6.31it/s]\n",
      "Epoch 44 / 50, loss = 0.10, acc = 1.00, val_acc = 0.74, best_val_acc = 0.74: 100%|██████████| 250/250 [00:41<00:00,  6.04it/s]\n",
      "Epoch 45 / 50, loss = 0.08, acc = 1.00, val_acc = 0.74, best_val_acc = 0.74: 100%|██████████| 250/250 [00:39<00:00,  6.34it/s]\n",
      "Epoch 46 / 50, loss = 0.11, acc = 0.98, val_acc = 0.74, best_val_acc = 0.74: 100%|██████████| 250/250 [00:38<00:00,  6.44it/s]\n",
      "Epoch 47 / 50, loss = 0.09, acc = 1.00, val_acc = 0.74, best_val_acc = 0.74: 100%|██████████| 250/250 [00:39<00:00,  6.39it/s]\n",
      "Epoch 48 / 50, loss = 0.09, acc = 1.00, val_acc = 0.74, best_val_acc = 0.74: 100%|██████████| 250/250 [00:39<00:00,  6.39it/s]\n",
      "Epoch 49 / 50, loss = 0.09, acc = 1.00, val_acc = 0.74, best_val_acc = 0.74: 100%|██████████| 250/250 [00:39<00:00,  6.34it/s]\n",
      "Epoch 50 / 50, loss = 0.09, acc = 1.00, val_acc = 0.74, best_val_acc = 0.74: 100%|██████████| 250/250 [00:39<00:00,  6.38it/s]\n"
     ]
    }
   ],
   "source": [
    "import tqdm\n",
    "import torchmetrics\n",
    "\n",
    "device = torch.device(\"cuda:0\" if torch.cuda.is_available() else \"cpu\")\n",
    "CE_criterion = nn.CrossEntropyLoss()\n",
    "\n",
    "best_val_acc = -1\n",
    "loss, acc, val_acc = [-1] * 3\n",
    "model_path = 'outputs/PFT_top4_best_model.pth'\n",
    "\n",
    "clip_model.to(device)\n",
    "classifier.to(device)\n",
    "clip_model.train()\n",
    "classifier.train()\n",
    "print(f\"Start standard finetuning ......\")\n",
    "for epoch in range(1, num_epochs + 1):\n",
    "\n",
    "    train_acc = torchmetrics.Accuracy(num_classes=num_classes, task=\"multiclass\", top_k=1)\n",
    "    train_acc.to(device)\n",
    "\n",
    "    pbar_iter = tqdm.tqdm(train_dataloader)\n",
    "    for idx, (images, targets) in enumerate(pbar_iter):\n",
    "        pbar_iter.set_description(f\"Epoch {epoch} / {num_epochs}, loss = {loss:.2f}, acc = {acc:.2f}, val_acc = {val_acc:.2f}, best_val_acc = {best_val_acc:.2f}\")\n",
    "\n",
    "        images = images.to(device)\n",
    "        targets = targets.to(device)\n",
    "\n",
    "        image_features = clip_model.encode_image(images)\n",
    "        image_features = image_features / image_features.norm(dim=-1, keepdim=True)\n",
    "        outputs = classifier(image_features)\n",
    "\n",
    "        loss = CE_criterion(outputs, targets)\n",
    "\n",
    "        optimizer.zero_grad()\n",
    "        loss.backward()\n",
    "        optimizer.step()\n",
    "        scheduler.step()\n",
    "\n",
    "        acc = train_acc(outputs, targets)\n",
    "\n",
    "    # Validation\n",
    "    clip_model.eval()\n",
    "    classifier.eval()\n",
    "    with torch.no_grad():\n",
    "        targets_list = []\n",
    "        preds_list = []\n",
    "        for idx, (inputs, targets) in enumerate(val_dataloader):\n",
    "            inputs = inputs.to(device)\n",
    "            targets = targets.to(device)\n",
    "\n",
    "            image_features = clip_model.encode_image(inputs)\n",
    "            image_features = image_features / image_features.norm(dim=-1, keepdim=True)\n",
    "            outputs = classifier(image_features)\n",
    "\n",
    "            targets_list.append(targets.detach().cpu().numpy())\n",
    "            preds_list.append(outputs.detach().cpu().numpy())\n",
    "\n",
    "    targets_list = np.hstack(targets_list)\n",
    "    preds_list = np.vstack(preds_list)\n",
    "    preds_list = torch.tensor(preds_list)\n",
    "    val_acc = (torch.softmax(preds_list, dim=1).argmax(1).numpy() == targets_list).mean()\n",
    "\n",
    "    if val_acc >= best_val_acc:\n",
    "        best_val_acc = val_acc\n",
    "        best_state_dict = {\n",
    "            \"clip_model\": clip_model.state_dict(),\n",
    "            \"classifier\": classifier.state_dict(),\n",
    "        }\n",
    "        torch.save(best_state_dict, model_path) # Save the best model\n",
    "\n",
    "    clip_model.train()\n",
    "    classifier.train()"
   ]
  },
  {
   "cell_type": "code",
   "execution_count": 12,
   "id": "f0be5c11d9cf2c57",
   "metadata": {
    "ExecuteTime": {
     "end_time": "2025-05-19T12:35:38.328365Z",
     "start_time": "2025-05-19T12:35:38.323364Z"
    }
   },
   "outputs": [
    {
     "data": {
      "text/plain": [
       "0.74398"
      ]
     },
     "execution_count": 12,
     "metadata": {},
     "output_type": "execute_result"
    }
   ],
   "source": [
    "best_val_acc"
   ]
  },
  {
   "cell_type": "markdown",
   "id": "4c57e801a10527a9",
   "metadata": {},
   "source": [
    "6. Test the model on ID and OOD datasets"
   ]
  },
  {
   "cell_type": "code",
   "execution_count": 15,
   "id": "769597b13cb11ab",
   "metadata": {
    "ExecuteTime": {
     "end_time": "2025-05-19T12:42:37.561793Z",
     "start_time": "2025-05-19T12:38:30.240766Z"
    }
   },
   "outputs": [
    {
     "name": "stderr",
     "output_type": "stream",
     "text": [
      "ImageNet-1k test: 100%|██████████| 782/782 [01:14<00:00, 10.44it/s]\n",
      "ImageNet-v2 test: 100%|██████████| 157/157 [00:15<00:00, 10.13it/s]\n",
      "ImageNet-Sketch test: 100%|██████████| 796/796 [01:39<00:00,  8.04it/s]\n",
      "ImageNet-A test: 100%|██████████| 118/118 [00:11<00:00, 10.02it/s]\n",
      "ImageNet-R test: 100%|██████████| 469/469 [00:45<00:00, 10.24it/s]"
     ]
    },
    {
     "name": "stdout",
     "output_type": "stream",
     "text": [
      "ImageNet-1k Test acc = 0.74398\n",
      "ImageNet-v2 Test acc = 0.6667\n",
      "ImageNet-Sketch Test acc = 0.49668887185835836\n",
      "ImageNet-A Test acc = 0.514\n",
      "ImageNet-R Test acc = 0.7774666666666666\n",
      "Avg OOD Test acc = 0.6137138846312562\n"
     ]
    },
    {
     "name": "stderr",
     "output_type": "stream",
     "text": [
      "\n"
     ]
    }
   ],
   "source": [
    "checkpoint = torch.load(model_path)\n",
    "clip_model.load_state_dict(checkpoint['clip_model'])\n",
    "classifier.load_state_dict(checkpoint['classifier'])\n",
    "\n",
    "results_dict = {}\n",
    "for test_dataset in [imagenet_test, imagenetv2_test, imagenet_sketch_test, imagenet_a_test,\n",
    "                     imagenet_r_test]:\n",
    "\n",
    "    dataset_name = test_dataset.dataset_name\n",
    "    test_dataloader = torch.utils.data.DataLoader(\n",
    "        dataset=test_dataset,\n",
    "        batch_size=64,\n",
    "        shuffle=False,\n",
    "        num_workers=4)\n",
    "    test_label_map = test_dataset.label_map\n",
    "\n",
    "    clip_model.eval()\n",
    "    classifier.eval()\n",
    "    with torch.no_grad():\n",
    "        targets_list = []\n",
    "        preds_list = []\n",
    "\n",
    "        pbar_iter = tqdm.tqdm(test_dataloader)\n",
    "        for idx, (inputs, targets) in enumerate(pbar_iter):\n",
    "            pbar_iter.set_description(f\"{dataset_name} test\")\n",
    "            inputs = inputs.to(device)\n",
    "            targets = targets.to(device)\n",
    "\n",
    "            image_features = clip_model.encode_image(inputs)\n",
    "            image_features = image_features / image_features.norm(dim=-1, keepdim=True)\n",
    "            outputs = classifier(image_features)\n",
    "            outputs = outputs[:,test_label_map] # map the logits to the test dataset, primarily for ImageNet-A and ImageNet-R\n",
    "\n",
    "            targets_list.append(targets.detach().cpu().numpy())\n",
    "            preds_list.append(outputs.detach().cpu().numpy())\n",
    "\n",
    "    targets_list = np.hstack(targets_list)\n",
    "    preds_list = np.vstack(preds_list)\n",
    "    preds_list = torch.tensor(preds_list)\n",
    "    test_acc = (torch.softmax(preds_list, dim=1).argmax(1).numpy() == targets_list).mean()\n",
    "\n",
    "    results_dict[dataset_name] = {'pred_logits': preds_list.numpy(), 'targets': targets_list, 'test_acc': test_acc}\n",
    "\n",
    "ood = []\n",
    "for dataset_name in results_dict.keys():\n",
    "    print(f\"{dataset_name} Test acc = {results_dict[dataset_name]['test_acc']}\")\n",
    "    if dataset_name != 'ImageNet-1k':\n",
    "        ood.append(results_dict[dataset_name]['test_acc'])\n",
    "avg_ood = np.mean(ood)\n",
    "print(f\"Avg OOD Test acc = {avg_ood}\")"
   ]
  }
 ],
 "metadata": {
  "kernelspec": {
   "display_name": "lca",
   "language": "python",
   "name": "python3"
  },
  "language_info": {
   "codemirror_mode": {
    "name": "ipython",
    "version": 3
   },
   "file_extension": ".py",
   "mimetype": "text/x-python",
   "name": "python",
   "nbconvert_exporter": "python",
   "pygments_lexer": "ipython3",
   "version": "3.10.16"
  }
 },
 "nbformat": 4,
 "nbformat_minor": 5
}
