{
 "cells": [
  {
   "cell_type": "markdown",
   "id": "bcd00c6a",
   "metadata": {},
   "source": [
    "# Robust Few-Shot Vision-Language Model Adaptation\n",
    "\n",
    "This notebook demonstrates how to perform **Stage-wise Retrieval Augmentation-based Adversarial Partial Finetuning (SRAPF)** on CLIP for few-shot learning and evaluate the model on both ID and OOD datasets. Results are comparable to Table 3 in the paper.\n",
    "1. model\n",
    "    - CLIP ViT-B/16\n",
    "2. few-shot setting\n",
    "    - 16 shots\n",
    "3. PFT setting\n",
    "    - top-4 blocks\n",
    "4. dataset\n",
    "    - ImageNet-1k (as ID dataset)\n",
    "    - ImageNet-V2 (as OOD dataset)\n",
    "    - ImageNet-S (as OOD dataset)\n",
    "    - ImageNet-A (as OOD dataset)\n",
    "    - ImageNet-R (as OOD dataset)\n",
    "5. acknowledgements\n",
    "    - This code is built on [LCA-on-the-line(ICML'24)](https://github.com/ElvishElvis/LCA-on-the-line) and [SWAT(CVPR'25)](https://github.com/tian1327/SWAT). And the `attack.py` is adapted from [torchattacks](https://github.com/Harry24k/adversarial-attacks-pytorch).\n"
   ]
  },
  {
   "cell_type": "code",
   "execution_count": null,
   "id": "initial_id",
   "metadata": {
    "collapsed": true
   },
   "outputs": [],
   "source": [
    "import torch\n",
    "import numpy as np\n",
    "import random\n",
    "\n",
    "# Set the random seed for reproducibility\n",
    "training_seed = 1\n",
    "data_seed = 1\n",
    "\n",
    "random.seed(data_seed)\n",
    "np.random.seed(training_seed)\n",
    "torch.manual_seed(training_seed)\n",
    "torch.cuda.manual_seed_all(training_seed)\n",
    "torch.backends.cudnn.deterministic = True\n",
    "torch.backends.cudnn.benchmark = False"
   ]
  },
  {
   "cell_type": "markdown",
   "id": "1c0bb82c",
   "metadata": {},
   "source": [
    "## SRAPF-stage1: partial finetuning with retrieval augmentation"
   ]
  },
  {
   "cell_type": "markdown",
   "id": "49556cd682fcaf59",
   "metadata": {},
   "source": [
    "1. Load the CLIP model and prepare the dataset"
   ]
  },
  {
   "cell_type": "code",
   "execution_count": 2,
   "id": "fb4656d8",
   "metadata": {
    "ExecuteTime": {
     "end_time": "2025-05-21T03:49:14.525012Z",
     "start_time": "2025-05-21T03:49:00.895938Z"
    }
   },
   "outputs": [
    {
     "name": "stdout",
     "output_type": "stream",
     "text": [
      "Loading few-shot data from data_resource/imagenet/fewshot16_seed1.txt.\n",
      "Loading retrieved data from data_resource/T2T500.txt.\n"
     ]
    },
    {
     "data": {
      "text/plain": [
       "(487876, 50000, 50000, 7500, 30000, 50889, 10000)"
      ]
     },
     "execution_count": 2,
     "metadata": {},
     "output_type": "execute_result"
    }
   ],
   "source": [
    "import clip.clip as clip\n",
    "import datasets\n",
    "\n",
    "# Load the CLIP ViT-B/16 model\n",
    "clip_model, train_preprocess, test_preprocess= clip.load('ViT-B/16', jit=False)\n",
    "\n",
    "\n",
    "# Prepare dataset and dataloader\n",
    "root = 'PUT YOUR PATH HERE' # Path to the ImageNet dataset\n",
    "num_shots = 16 # Number of shots for few-shot learning, options: 4, 8, 16\n",
    "imagenet_train, text_name = datasets.build_imagenet_few_shot_dataset_demo('imagenet', 'train', data_seed, train_preprocess,\n",
    "                                                                     root=root, num_shots=num_shots, w_retrival=True) # set w_retrival=True to use retrieval augmentation\n",
    "imagenet_val, _ = datasets.build_imagenet_dataset('imagenet', 'val', test_preprocess, root=root)\n",
    "\n",
    "# ID testset\n",
    "imagenet_test, _ = datasets.build_imagenet_dataset('imagenet', 'test', test_preprocess, root=root)\n",
    "# OOD testsets\n",
    "imagenet_a_test, _ = datasets.build_imagenet_dataset('imagenet_a', 'test', test_preprocess, root=root)\n",
    "imagenet_r_test, _ = datasets.build_imagenet_dataset('imagenet_r', 'test', test_preprocess, root=root)\n",
    "imagenet_sketch_test, _ = datasets.build_imagenet_dataset('imagenet_sketch', 'test', test_preprocess, root=root)    \n",
    "imagenetv2_test, _ = datasets.build_imagenet_dataset('imagenetv2', 'test', test_preprocess, root=root)\n",
    "\n",
    "batch_size = 64\n",
    "train_dataloader = torch.utils.data.DataLoader(\n",
    "    dataset=imagenet_train,\n",
    "    batch_size=batch_size,\n",
    "    shuffle=True,\n",
    "    num_workers=8,\n",
    "    pin_memory=True)\n",
    "val_dataloader = torch.utils.data.DataLoader(\n",
    "    dataset=imagenet_test,\n",
    "    batch_size=64,\n",
    "    shuffle=False,\n",
    "    num_workers=8,\n",
    "    pin_memory=False)\n",
    "\n",
    "len(imagenet_train), len(imagenet_val), len(imagenet_test), len(imagenet_a_test), len(imagenet_r_test), len(imagenet_sketch_test), len(imagenetv2_test)"
   ]
  },
  {
   "cell_type": "markdown",
   "id": "4be071a455bfa4f7",
   "metadata": {},
   "source": [
    "2. Frozen the clip model except the top-X blocks of visual encoder."
   ]
  },
  {
   "cell_type": "code",
   "execution_count": 3,
   "id": "ae1e1324d47d1e78",
   "metadata": {
    "ExecuteTime": {
     "end_time": "2025-05-20T05:35:54.420261Z",
     "start_time": "2025-05-20T05:35:54.414448Z"
    }
   },
   "outputs": [
    {
     "name": "stdout",
     "output_type": "stream",
     "text": [
      "Finetune top-4 blocks of the visual transformer.\n",
      "visual.proj\n",
      "visual.transformer.resblocks.8.attn.in_proj_weight\n",
      "visual.transformer.resblocks.8.attn.in_proj_bias\n",
      "visual.transformer.resblocks.8.attn.out_proj.weight\n",
      "visual.transformer.resblocks.8.attn.out_proj.bias\n",
      "visual.transformer.resblocks.8.ln_1.weight\n",
      "visual.transformer.resblocks.8.ln_1.bias\n",
      "visual.transformer.resblocks.8.mlp.c_fc.weight\n",
      "visual.transformer.resblocks.8.mlp.c_fc.bias\n",
      "visual.transformer.resblocks.8.mlp.c_proj.weight\n",
      "visual.transformer.resblocks.8.mlp.c_proj.bias\n",
      "visual.transformer.resblocks.8.ln_2.weight\n",
      "visual.transformer.resblocks.8.ln_2.bias\n",
      "visual.transformer.resblocks.9.attn.in_proj_weight\n",
      "visual.transformer.resblocks.9.attn.in_proj_bias\n",
      "visual.transformer.resblocks.9.attn.out_proj.weight\n",
      "visual.transformer.resblocks.9.attn.out_proj.bias\n",
      "visual.transformer.resblocks.9.ln_1.weight\n",
      "visual.transformer.resblocks.9.ln_1.bias\n",
      "visual.transformer.resblocks.9.mlp.c_fc.weight\n",
      "visual.transformer.resblocks.9.mlp.c_fc.bias\n",
      "visual.transformer.resblocks.9.mlp.c_proj.weight\n",
      "visual.transformer.resblocks.9.mlp.c_proj.bias\n",
      "visual.transformer.resblocks.9.ln_2.weight\n",
      "visual.transformer.resblocks.9.ln_2.bias\n",
      "visual.transformer.resblocks.10.attn.in_proj_weight\n",
      "visual.transformer.resblocks.10.attn.in_proj_bias\n",
      "visual.transformer.resblocks.10.attn.out_proj.weight\n",
      "visual.transformer.resblocks.10.attn.out_proj.bias\n",
      "visual.transformer.resblocks.10.ln_1.weight\n",
      "visual.transformer.resblocks.10.ln_1.bias\n",
      "visual.transformer.resblocks.10.mlp.c_fc.weight\n",
      "visual.transformer.resblocks.10.mlp.c_fc.bias\n",
      "visual.transformer.resblocks.10.mlp.c_proj.weight\n",
      "visual.transformer.resblocks.10.mlp.c_proj.bias\n",
      "visual.transformer.resblocks.10.ln_2.weight\n",
      "visual.transformer.resblocks.10.ln_2.bias\n",
      "visual.transformer.resblocks.11.attn.in_proj_weight\n",
      "visual.transformer.resblocks.11.attn.in_proj_bias\n",
      "visual.transformer.resblocks.11.attn.out_proj.weight\n",
      "visual.transformer.resblocks.11.attn.out_proj.bias\n",
      "visual.transformer.resblocks.11.ln_1.weight\n",
      "visual.transformer.resblocks.11.ln_1.bias\n",
      "visual.transformer.resblocks.11.mlp.c_fc.weight\n",
      "visual.transformer.resblocks.11.mlp.c_fc.bias\n",
      "visual.transformer.resblocks.11.mlp.c_proj.weight\n",
      "visual.transformer.resblocks.11.mlp.c_proj.bias\n",
      "visual.transformer.resblocks.11.ln_2.weight\n",
      "visual.transformer.resblocks.11.ln_2.bias\n",
      "visual.ln_post.weight\n",
      "visual.ln_post.bias\n"
     ]
    }
   ],
   "source": [
    "def frozen(model, ft_topk_blks):\n",
    "    for param in model.parameters():\n",
    "        param.requires_grad = False\n",
    "\n",
    "    if ft_topk_blks == -1:\n",
    "        print('Finetune all blocks of the visual transformer.')\n",
    "        for param in model.visual.parameters():\n",
    "            param.requires_grad = True\n",
    "    else:\n",
    "        print(f'Finetune top-{ft_topk_blks} blocks of the visual transformer.')\n",
    "        for blk in model.visual.transformer.resblocks[-ft_topk_blks:]:\n",
    "            for param in blk.parameters():\n",
    "                param.requires_grad = True\n",
    "\n",
    "        for param in model.visual.ln_post.parameters():\n",
    "            param.requires_grad = True\n",
    "        model.visual.proj.requires_grad = True\n",
    "\n",
    "# In our experiments, we adopt PFT on the top-4 blocks as the default setting.\n",
    "ft_topk_blks = 4\n",
    "frozen(clip_model, ft_topk_blks)\n",
    "\n",
    "# double check the parameters\n",
    "for name, param in clip_model.named_parameters():\n",
    "    if param.requires_grad:\n",
    "        print(name)"
   ]
  },
  {
   "cell_type": "markdown",
   "id": "b02c7edcc1dc68a5",
   "metadata": {},
   "source": [
    "3. Initialize the classifier with average text features of OpenAI 80 prompts."
   ]
  },
  {
   "cell_type": "code",
   "execution_count": 4,
   "id": "51b9163bd4872fbe",
   "metadata": {
    "ExecuteTime": {
     "end_time": "2025-05-20T05:36:15.447623Z",
     "start_time": "2025-05-20T05:36:15.442196Z"
    }
   },
   "outputs": [],
   "source": [
    "import torch.nn as nn\n",
    "class MyLinear(nn.Module):\n",
    "    def __init__(self, input_dim=512, num_classes=1000, bias = False):\n",
    "        super(MyLinear, self).__init__()\n",
    "\n",
    "        self.linear = nn.Linear(input_dim, num_classes, bias=bias)\n",
    "        self.num_classes = num_classes\n",
    "\n",
    "    def forward(self, x):\n",
    "        x = self.linear(x)\n",
    "\n",
    "        return x\n",
    "\n",
    "    def _init_weights(self, weights):\n",
    "        # Initialize the weights of the linear layer with the given weights\n",
    "        self.linear.weight = nn.Parameter(weights.clone())"
   ]
  },
  {
   "cell_type": "code",
   "execution_count": 5,
   "id": "e983b608",
   "metadata": {
    "ExecuteTime": {
     "end_time": "2025-05-20T05:36:18.389161Z",
     "start_time": "2025-05-20T05:36:18.379360Z"
    }
   },
   "outputs": [],
   "source": [
    "import templates\n",
    "def get_zeroshot_weights(text_name, template, logit_scale):\n",
    "    zeroshot_weights = []\n",
    "    template = getattr(templates, template)\n",
    "    for classname in text_name:\n",
    "        texts = []\n",
    "        for t in template:\n",
    "            texts.append(t(classname))\n",
    "        texts = clip.tokenize(texts).cuda()\n",
    "        embeddings = clip_model.encode_text(texts) #(80, dim)\n",
    "        embeddings /= embeddings.norm(dim=-1, keepdim=True)\n",
    "        \n",
    "        embeddings = embeddings.mean(dim=0) #(dim)\n",
    "        embeddings /= embeddings.norm()\n",
    "    \n",
    "        zeroshot_weights.append(embeddings)\n",
    "    \n",
    "    zeroshot_weights = torch.stack(zeroshot_weights, dim=0) #(1000, dim)\n",
    "    zeroshot_weights *= logit_scale.exp()\n",
    "    \n",
    "    return zeroshot_weights"
   ]
  },
  {
   "cell_type": "code",
   "execution_count": 6,
   "id": "8b23f3a4",
   "metadata": {
    "ExecuteTime": {
     "end_time": "2025-05-20T05:36:46.319152Z",
     "start_time": "2025-05-20T05:36:20.540732Z"
    }
   },
   "outputs": [
    {
     "data": {
      "text/plain": [
       "torch.Size([1000, 512])"
      ]
     },
     "execution_count": 6,
     "metadata": {},
     "output_type": "execute_result"
    }
   ],
   "source": [
    "# Set classifier\n",
    "num_classes = 1000  # Number of classes\n",
    "num_features = 512  # Number of features\n",
    "\n",
    "classifier = MyLinear(input_dim=num_features, num_classes=num_classes, bias=False)\n",
    "\n",
    "# Initialize the classifier\n",
    "logit_scale = clip_model.logit_scale\n",
    "template = 'openai_imagenet_template' # OpenAI 80 prompts\n",
    "with torch.no_grad():\n",
    "    zeroshot_weights = get_zeroshot_weights(text_name, template, logit_scale)\n",
    "classifier._init_weights(zeroshot_weights)\n",
    "\n",
    "zeroshot_weights.shape"
   ]
  },
  {
   "cell_type": "markdown",
   "id": "37a1222497555364",
   "metadata": {},
   "source": [
    "4. Define the optimizer and learning rate scheduler"
   ]
  },
  {
   "cell_type": "code",
   "execution_count": null,
   "id": "4cee20b544e1f351",
   "metadata": {
    "ExecuteTime": {
     "end_time": "2025-05-19T13:05:33.283719Z",
     "start_time": "2025-05-19T13:05:33.277098Z"
    }
   },
   "outputs": [],
   "source": [
    "from utils.scheduler import build_lr_scheduler\n",
    "\n",
    "lr_backbone = 1e-6\n",
    "lr_cls = 1e-3   # set the learning rate for the classifier\n",
    "weight_decay = 0.01\n",
    "\n",
    "# Define the optimizer\n",
    "param_groups = [\n",
    "            {\"params\": [p for name, p in clip_model.named_parameters() if p.requires_grad], \"lr\": lr_backbone},\n",
    "            {\"params\": [p for p in classifier.parameters()], \"lr\": lr_cls},\n",
    "        ]\n",
    "optimizer = torch.optim.AdamW(param_groups, lr=lr_cls, weight_decay=weight_decay, betas=(0.9, 0.999))\n",
    "\n",
    "# Define the learning rate scheduler\n",
    "num_epochs = 10\n",
    "total_iter = len(train_dataloader) * num_epochs\n",
    "warmup_iter = 18\n",
    "warmup_lr = 1e-8\n",
    "scheduler = build_lr_scheduler(optimizer,\n",
    "                               lr_scheduler=\"cosine\",\n",
    "                               warmup_iter=warmup_iter,\n",
    "                               max_iter=total_iter,\n",
    "                               warmup_type=\"linear\",\n",
    "                               warmup_lr=warmup_lr,\n",
    "                               verbose=False)"
   ]
  },
  {
   "cell_type": "markdown",
   "id": "7ddcc762a61d7512",
   "metadata": {},
   "source": [
    "5. Start training"
   ]
  },
  {
   "cell_type": "code",
   "execution_count": 8,
   "id": "92d1e9ba0e77e784",
   "metadata": {
    "ExecuteTime": {
     "end_time": "2025-05-19T16:31:38.201528Z",
     "start_time": "2025-05-19T13:05:39.180899Z"
    }
   },
   "outputs": [
    {
     "name": "stdout",
     "output_type": "stream",
     "text": [
      "Start standard finetuning ......\n"
     ]
    },
    {
     "name": "stderr",
     "output_type": "stream",
     "text": [
      "Epoch 1 / 10, loss = 1.22, acc = 0.69, val_acc = -1.00, best_val_acc = -1.00: 100%|██████████| 7624/7624 [19:22<00:00,  6.56it/s] \n",
      "Epoch 2 / 10, loss = 1.25, acc = 0.73, val_acc = 0.72, best_val_acc = 0.72: 100%|██████████| 7624/7624 [19:20<00:00,  6.57it/s]\n",
      "Epoch 3 / 10, loss = 0.92, acc = 0.75, val_acc = 0.72, best_val_acc = 0.72: 100%|██████████| 7624/7624 [19:16<00:00,  6.59it/s]\n",
      "Epoch 4 / 10, loss = 1.17, acc = 0.72, val_acc = 0.73, best_val_acc = 0.73: 100%|██████████| 7624/7624 [19:14<00:00,  6.60it/s]\n",
      "Epoch 5 / 10, loss = 0.93, acc = 0.80, val_acc = 0.73, best_val_acc = 0.73: 100%|██████████| 7624/7624 [19:21<00:00,  6.56it/s]\n",
      "Epoch 6 / 10, loss = 1.14, acc = 0.72, val_acc = 0.73, best_val_acc = 0.73: 100%|██████████| 7624/7624 [19:21<00:00,  6.56it/s]\n",
      "Epoch 7 / 10, loss = 0.71, acc = 0.81, val_acc = 0.73, best_val_acc = 0.73: 100%|██████████| 7624/7624 [19:15<00:00,  6.60it/s]\n",
      "Epoch 8 / 10, loss = 0.74, acc = 0.78, val_acc = 0.73, best_val_acc = 0.73: 100%|██████████| 7624/7624 [19:28<00:00,  6.52it/s]\n",
      "Epoch 9 / 10, loss = 0.85, acc = 0.80, val_acc = 0.73, best_val_acc = 0.73: 100%|██████████| 7624/7624 [19:12<00:00,  6.61it/s]\n",
      "Epoch 10 / 10, loss = 0.31, acc = 0.91, val_acc = 0.74, best_val_acc = 0.74: 100%|██████████| 7624/7624 [19:13<00:00,  6.61it/s]\n"
     ]
    }
   ],
   "source": [
    "import tqdm\n",
    "import torchmetrics\n",
    "\n",
    "device = torch.device(\"cuda:0\" if torch.cuda.is_available() else \"cpu\")\n",
    "CE_criterion = nn.CrossEntropyLoss()\n",
    "\n",
    "best_val_acc = -1\n",
    "loss, acc, val_acc = [-1] * 3\n",
    "model_path = 'outputs/SRAPF_top4_stage1_best_model.pth'\n",
    "\n",
    "clip_model.to(device)\n",
    "classifier.to(device)\n",
    "clip_model.train()\n",
    "classifier.train()\n",
    "print(f\"Start standard finetuning ......\")\n",
    "for epoch in range(1, num_epochs + 1):\n",
    "\n",
    "    train_acc = torchmetrics.Accuracy(num_classes=num_classes, task=\"multiclass\", top_k=1)\n",
    "    train_acc.to(device)\n",
    "\n",
    "    pbar_iter = tqdm.tqdm(train_dataloader)\n",
    "    for idx, (images, targets) in enumerate(pbar_iter):\n",
    "        pbar_iter.set_description(f\"Epoch {epoch} / {num_epochs}, loss = {loss:.2f}, acc = {acc:.2f}, val_acc = {val_acc:.2f}, best_val_acc = {best_val_acc:.2f}\")\n",
    "\n",
    "        images = images.to(device)\n",
    "        targets = targets.to(device)\n",
    "\n",
    "        image_features = clip_model.encode_image(images)\n",
    "        image_features = image_features / image_features.norm(dim=-1, keepdim=True)\n",
    "        outputs = classifier(image_features)\n",
    "\n",
    "        loss = CE_criterion(outputs, targets)\n",
    "\n",
    "        optimizer.zero_grad()\n",
    "        loss.backward()\n",
    "        optimizer.step()\n",
    "        scheduler.step()\n",
    "\n",
    "        acc = train_acc(outputs, targets)\n",
    "\n",
    "    # Validation\n",
    "    clip_model.eval()\n",
    "    classifier.eval()\n",
    "    with torch.no_grad():\n",
    "        targets_list = []\n",
    "        preds_list = []\n",
    "        for idx, (inputs, targets) in enumerate(val_dataloader):\n",
    "            inputs = inputs.to(device)\n",
    "            targets = targets.to(device)\n",
    "\n",
    "            image_features = clip_model.encode_image(inputs)\n",
    "            image_features = image_features / image_features.norm(dim=-1, keepdim=True)\n",
    "            outputs = classifier(image_features)\n",
    "\n",
    "            targets_list.append(targets.detach().cpu().numpy())\n",
    "            preds_list.append(outputs.detach().cpu().numpy())\n",
    "\n",
    "    targets_list = np.hstack(targets_list)\n",
    "    preds_list = np.vstack(preds_list)\n",
    "    preds_list = torch.tensor(preds_list)\n",
    "    val_acc = (torch.softmax(preds_list, dim=1).argmax(1).numpy() == targets_list).mean()\n",
    "\n",
    "    if val_acc >= best_val_acc:\n",
    "        best_val_acc = val_acc\n",
    "        best_state_dict = {\n",
    "            \"clip_model\": clip_model.state_dict(),\n",
    "            \"classifier\": classifier.state_dict(),\n",
    "        }\n",
    "        torch.save(best_state_dict, model_path) # Save the best model\n",
    "\n",
    "    clip_model.train()\n",
    "    classifier.train()"
   ]
  },
  {
   "cell_type": "code",
   "execution_count": 9,
   "id": "f0be5c11d9cf2c57",
   "metadata": {
    "ExecuteTime": {
     "end_time": "2025-05-20T02:23:55.067232Z",
     "start_time": "2025-05-20T02:23:55.064403Z"
    }
   },
   "outputs": [
    {
     "data": {
      "text/plain": [
       "0.73534"
      ]
     },
     "execution_count": 9,
     "metadata": {},
     "output_type": "execute_result"
    }
   ],
   "source": [
    "best_val_acc"
   ]
  },
  {
   "cell_type": "markdown",
   "id": "4c57e801a10527a9",
   "metadata": {},
   "source": [
    "6. Test the model on ID and OOD datasets"
   ]
  },
  {
   "cell_type": "code",
   "execution_count": 14,
   "id": "769597b13cb11ab",
   "metadata": {
    "ExecuteTime": {
     "end_time": "2025-05-20T05:41:52.655274Z",
     "start_time": "2025-05-20T05:37:44.107395Z"
    }
   },
   "outputs": [
    {
     "name": "stderr",
     "output_type": "stream",
     "text": [
      "ImageNet-1k test: 100%|██████████| 782/782 [01:16<00:00, 10.22it/s]\n",
      "ImageNet-v2 test: 100%|██████████| 157/157 [00:15<00:00, 10.11it/s]\n",
      "ImageNet-Sketch test: 100%|██████████| 796/796 [01:37<00:00,  8.13it/s]\n",
      "ImageNet-A test: 100%|██████████| 118/118 [00:11<00:00,  9.88it/s]\n",
      "ImageNet-R test: 100%|██████████| 469/469 [00:46<00:00, 10.13it/s]"
     ]
    },
    {
     "name": "stdout",
     "output_type": "stream",
     "text": [
      "ImageNet-1k Test acc = 0.73534\n",
      "ImageNet-v2 Test acc = 0.67\n",
      "ImageNet-Sketch Test acc = 0.5402149776965552\n",
      "ImageNet-A Test acc = 0.5241333333333333\n",
      "ImageNet-R Test acc = 0.8106\n",
      "Avg OOD Test acc = 0.6362370777574722\n"
     ]
    },
    {
     "name": "stderr",
     "output_type": "stream",
     "text": [
      "\n"
     ]
    }
   ],
   "source": [
    "checkpoint = torch.load(model_path)\n",
    "clip_model.load_state_dict(checkpoint['clip_model'])\n",
    "classifier.load_state_dict(checkpoint['classifier'])\n",
    "\n",
    "results_dict = {}\n",
    "for test_dataset in [imagenet_test, imagenetv2_test, imagenet_sketch_test, imagenet_a_test,\n",
    "                     imagenet_r_test]:\n",
    "\n",
    "    dataset_name = test_dataset.dataset_name\n",
    "    test_dataloader = torch.utils.data.DataLoader(\n",
    "        dataset=test_dataset,\n",
    "        batch_size=64,\n",
    "        shuffle=False,\n",
    "        num_workers=4)\n",
    "    test_label_map = test_dataset.label_map\n",
    "\n",
    "    clip_model.eval()\n",
    "    classifier.eval()\n",
    "    with torch.no_grad():\n",
    "        targets_list = []\n",
    "        preds_list = []\n",
    "\n",
    "        pbar_iter = tqdm.tqdm(test_dataloader)\n",
    "        for idx, (inputs, targets) in enumerate(pbar_iter):\n",
    "            pbar_iter.set_description(f\"{dataset_name} test\")\n",
    "            inputs = inputs.to(device)\n",
    "            targets = targets.to(device)\n",
    "\n",
    "            image_features = clip_model.encode_image(inputs)\n",
    "            image_features = image_features / image_features.norm(dim=-1, keepdim=True)\n",
    "            outputs = classifier(image_features)\n",
    "            outputs = outputs[:,test_label_map] # map the logits to the test dataset, primarily for ImageNet-A and ImageNet-R\n",
    "\n",
    "            targets_list.append(targets.detach().cpu().numpy())\n",
    "            preds_list.append(outputs.detach().cpu().numpy())\n",
    "\n",
    "    targets_list = np.hstack(targets_list)\n",
    "    preds_list = np.vstack(preds_list)\n",
    "    preds_list = torch.tensor(preds_list)\n",
    "    test_acc = (torch.softmax(preds_list, dim=1).argmax(1).numpy() == targets_list).mean()\n",
    "\n",
    "    results_dict[dataset_name] = {'pred_logits': preds_list.numpy(), 'targets': targets_list, 'test_acc': test_acc}\n",
    "\n",
    "ood = []\n",
    "for dataset_name in results_dict.keys():\n",
    "    print(f\"{dataset_name} Test acc = {results_dict[dataset_name]['test_acc']}\")\n",
    "    if dataset_name != 'ImageNet-1k':\n",
    "        ood.append(results_dict[dataset_name]['test_acc'])\n",
    "avg_ood = np.mean(ood)\n",
    "print(f\"Avg OOD Test acc = {avg_ood}\")"
   ]
  },
  {
   "cell_type": "markdown",
   "id": "93b320fe2fe581b3",
   "metadata": {},
   "source": [
    "## SRAPF-stage2: partial finetuning with adversarial perturbation"
   ]
  },
  {
   "cell_type": "markdown",
   "id": "7adaa89daae1a966",
   "metadata": {},
   "source": [
    "7. Reset dataset and dataloader"
   ]
  },
  {
   "cell_type": "code",
   "execution_count": 17,
   "id": "fa327d7c3b0b809b",
   "metadata": {
    "ExecuteTime": {
     "end_time": "2025-05-21T03:52:33.912242Z",
     "start_time": "2025-05-21T03:52:30.008966Z"
    }
   },
   "outputs": [
    {
     "name": "stdout",
     "output_type": "stream",
     "text": [
      "Loading few-shot data from data_resource/imagenet/fewshot16_seed1.txt.\n"
     ]
    },
    {
     "data": {
      "text/plain": [
       "16000"
      ]
     },
     "execution_count": 17,
     "metadata": {},
     "output_type": "execute_result"
    }
   ],
   "source": [
    "imagenet_train, _ = datasets.build_imagenet_few_shot_dataset('imagenet', 'train', data_seed, train_preprocess,\n",
    "                                                             root=root, num_shots=num_shots, w_retrival=False) # set w_retrival=False to only use the few-shot samples\n",
    "\n",
    "train_dataloader = torch.utils.data.DataLoader(\n",
    "    dataset=imagenet_train,\n",
    "    batch_size=batch_size,\n",
    "    shuffle=True,\n",
    "    num_workers=8,\n",
    "    pin_memory=True)\n",
    "\n",
    "len(imagenet_train)"
   ]
  },
  {
   "cell_type": "markdown",
   "id": "5104ca7624fb285a",
   "metadata": {},
   "source": [
    "8. Reset the optimizer and learning rate scheduler"
   ]
  },
  {
   "cell_type": "code",
   "execution_count": 21,
   "id": "c61ed2c23cbf7bd",
   "metadata": {
    "ExecuteTime": {
     "end_time": "2025-05-20T04:00:45.253676Z",
     "start_time": "2025-05-20T04:00:45.084972Z"
    }
   },
   "outputs": [],
   "source": [
    "lr_backbone = 1e-6\n",
    "lr_cls = 1e-3   # set the learning rate for the classifier\n",
    "weight_decay = 0.01\n",
    "\n",
    "# Define the optimizer\n",
    "param_groups = [\n",
    "            {\"params\": [p for name, p in clip_model.named_parameters() if p.requires_grad], \"lr\": lr_backbone},\n",
    "            {\"params\": [p for p in classifier.parameters()], \"lr\": lr_cls},\n",
    "        ]\n",
    "optimizer = torch.optim.AdamW(param_groups, lr=lr_cls, weight_decay=weight_decay, betas=(0.9, 0.999))\n",
    "\n",
    "# Define the learning rate scheduler\n",
    "num_epochs = 10\n",
    "total_iter = len(train_dataloader) * num_epochs\n",
    "warmup_iter = 18\n",
    "warmup_lr = 1e-8\n",
    "scheduler = build_lr_scheduler(optimizer,\n",
    "                               lr_scheduler=\"cosine\",\n",
    "                               warmup_iter=warmup_iter,\n",
    "                               max_iter=total_iter,\n",
    "                               warmup_type=\"linear\",\n",
    "                               warmup_lr=warmup_lr,\n",
    "                               verbose=False)"
   ]
  },
  {
   "cell_type": "markdown",
   "id": "36ef4ff042253f3b",
   "metadata": {},
   "source": [
    "9. Define the adversarial perturbation"
   ]
  },
  {
   "cell_type": "code",
   "execution_count": null,
   "id": "5bdebb60dcdc2e0e",
   "metadata": {
    "ExecuteTime": {
     "end_time": "2025-05-20T04:00:49.616978Z",
     "start_time": "2025-05-20T04:00:49.612637Z"
    }
   },
   "outputs": [],
   "source": [
    "from utils.attack import PGD\n",
    "\n",
    "eps = 0.01  # perturbation magnitude\n",
    "steps = 10  # number of perturbation steps\n",
    "attack = PGD(clip_model, classifier, eps=eps, alpha=eps / 10, steps=steps)"
   ]
  },
  {
   "cell_type": "markdown",
   "id": "5d1e5f20c5758679",
   "metadata": {},
   "source": [
    "10. Start training"
   ]
  },
  {
   "cell_type": "code",
   "execution_count": 23,
   "id": "b2c9758bb11bd366",
   "metadata": {
    "ExecuteTime": {
     "end_time": "2025-05-20T04:59:32.044283Z",
     "start_time": "2025-05-20T04:00:54.809540Z"
    }
   },
   "outputs": [
    {
     "name": "stdout",
     "output_type": "stream",
     "text": [
      "Start few-shot finetuning ......\n"
     ]
    },
    {
     "name": "stderr",
     "output_type": "stream",
     "text": [
      "Epoch 1 / 10, loss = 2.21, val_acc = -1.00, best_val_acc = -1.00: 100%|██████████| 250/250 [04:32<00:00,  1.09s/it]\n",
      "Epoch 2 / 10, loss = 2.39, val_acc = 0.75, best_val_acc = 0.75: 100%|██████████| 250/250 [04:37<00:00,  1.11s/it]\n",
      "Epoch 3 / 10, loss = 2.19, val_acc = 0.76, best_val_acc = 0.76: 100%|██████████| 250/250 [04:36<00:00,  1.10s/it]\n",
      "Epoch 4 / 10, loss = 1.77, val_acc = 0.76, best_val_acc = 0.76: 100%|██████████| 250/250 [04:36<00:00,  1.11s/it]\n",
      "Epoch 5 / 10, loss = 1.17, val_acc = 0.76, best_val_acc = 0.76: 100%|██████████| 250/250 [04:35<00:00,  1.10s/it]\n",
      "Epoch 6 / 10, loss = 1.22, val_acc = 0.76, best_val_acc = 0.76: 100%|██████████| 250/250 [04:36<00:00,  1.10s/it]\n",
      "Epoch 7 / 10, loss = 1.71, val_acc = 0.76, best_val_acc = 0.76: 100%|██████████| 250/250 [04:34<00:00,  1.10s/it]\n",
      "Epoch 8 / 10, loss = 1.37, val_acc = 0.76, best_val_acc = 0.76: 100%|██████████| 250/250 [04:32<00:00,  1.09s/it]\n",
      "Epoch 9 / 10, loss = 1.00, val_acc = 0.76, best_val_acc = 0.76: 100%|██████████| 250/250 [04:33<00:00,  1.10s/it]\n",
      "Epoch 10 / 10, loss = 1.42, val_acc = 0.76, best_val_acc = 0.76: 100%|██████████| 250/250 [04:35<00:00,  1.10s/it]\n"
     ]
    }
   ],
   "source": [
    "CE_criterion = nn.CrossEntropyLoss()\n",
    "\n",
    "best_val_acc = -1\n",
    "loss,val_acc = [-1] * 2\n",
    "model_path = 'outputs/SRAPF_top4_stage2_best_model.pth'\n",
    "\n",
    "clip_model.to(device)\n",
    "classifier.to(device)\n",
    "clip_model.train()\n",
    "classifier.train()\n",
    "print(f\"Start few-shot finetuning ......\")\n",
    "for epoch in range(1, num_epochs + 1):\n",
    "\n",
    "    pbar_iter = tqdm.tqdm(train_dataloader)\n",
    "    for idx, (images, targets) in enumerate(pbar_iter):\n",
    "        pbar_iter.set_description(f\"Epoch {epoch} / {num_epochs}, loss = {loss:.2f}, val_acc = {val_acc:.2f}, best_val_acc = {best_val_acc:.2f}\")\n",
    "\n",
    "        images = images.to(device)\n",
    "        targets = targets.to(device)\n",
    "\n",
    "        # use forzen blocks to extract midfeatures\n",
    "        image_midfeatures = clip_model.get_midfeatures(images, k=ft_topk_blks)\n",
    "        clean_features = clip_model.get_features(image_midfeatures, k=ft_topk_blks)\n",
    "\n",
    "        adv_midfeatures = attack(image_midfeatures, targets, k=ft_topk_blks)\n",
    "        adv_features = clip_model.get_features(adv_midfeatures, k=ft_topk_blks)\n",
    "\n",
    "        # normalized features\n",
    "        clean_features = clean_features / clean_features.norm(dim=-1, keepdim=True)\n",
    "        adv_features = adv_features / adv_features.norm(dim=-1, keepdim=True)\n",
    "\n",
    "        clean_logits = classifier(clean_features)\n",
    "        adv_logits = classifier(adv_features)\n",
    "\n",
    "        clean_loss = CE_criterion(clean_logits, targets)\n",
    "        adv_loss = CE_criterion(adv_logits, targets)\n",
    "        loss = clean_loss + adv_loss # We employ the same weight for both clean and adv loss\n",
    "\n",
    "        optimizer.zero_grad()\n",
    "        loss.backward()\n",
    "        optimizer.step()\n",
    "        scheduler.step()\n",
    "\n",
    "    # Validation\n",
    "    clip_model.eval()\n",
    "    classifier.eval()\n",
    "    with torch.no_grad():\n",
    "        targets_list = []\n",
    "        preds_list = []\n",
    "        for idx, (inputs, targets) in enumerate(val_dataloader):\n",
    "            inputs = inputs.to(device)\n",
    "            targets = targets.to(device)\n",
    "\n",
    "            image_features = clip_model.encode_image(inputs)\n",
    "            image_features = image_features / image_features.norm(dim=-1, keepdim=True)\n",
    "            outputs = classifier(image_features)\n",
    "\n",
    "            targets_list.append(targets.detach().cpu().numpy())\n",
    "            preds_list.append(outputs.detach().cpu().numpy())\n",
    "\n",
    "    targets_list = np.hstack(targets_list)\n",
    "    preds_list = np.vstack(preds_list)\n",
    "    preds_list = torch.tensor(preds_list)\n",
    "    val_acc = (torch.softmax(preds_list, dim=1).argmax(1).numpy() == targets_list).mean()\n",
    "\n",
    "    if val_acc >= best_val_acc:\n",
    "        best_val_acc = val_acc\n",
    "        best_state_dict = {\n",
    "            \"clip_model\": clip_model.state_dict(),\n",
    "            \"classifier\": classifier.state_dict(),\n",
    "        }\n",
    "        torch.save(best_state_dict, model_path) # Save the best model\n",
    "\n",
    "    clip_model.train()\n",
    "    classifier.train()"
   ]
  },
  {
   "cell_type": "code",
   "execution_count": 24,
   "id": "51b4c0b7103fdd58",
   "metadata": {
    "ExecuteTime": {
     "end_time": "2025-05-20T05:00:05.325872Z",
     "start_time": "2025-05-20T05:00:05.323207Z"
    }
   },
   "outputs": [
    {
     "data": {
      "text/plain": [
       "0.76478"
      ]
     },
     "execution_count": 24,
     "metadata": {},
     "output_type": "execute_result"
    }
   ],
   "source": [
    "best_val_acc"
   ]
  },
  {
   "cell_type": "markdown",
   "id": "acac45400851e551",
   "metadata": {},
   "source": [
    "11. Test the model on ID and OOD datasets"
   ]
  },
  {
   "cell_type": "code",
   "execution_count": 26,
   "id": "88fefdc566ab2078",
   "metadata": {
    "ExecuteTime": {
     "end_time": "2025-05-20T05:08:33.482893Z",
     "start_time": "2025-05-20T05:04:22.355839Z"
    }
   },
   "outputs": [
    {
     "name": "stderr",
     "output_type": "stream",
     "text": [
      "ImageNet-1k test: 100%|██████████| 782/782 [01:19<00:00,  9.88it/s]\n",
      "ImageNet-v2 test: 100%|██████████| 157/157 [00:15<00:00,  9.86it/s]\n",
      "ImageNet-Sketch test: 100%|██████████| 796/796 [01:36<00:00,  8.25it/s]\n",
      "ImageNet-A test: 100%|██████████| 118/118 [00:12<00:00,  9.52it/s]\n",
      "ImageNet-R test: 100%|██████████| 469/469 [00:46<00:00, 10.03it/s]"
     ]
    },
    {
     "name": "stdout",
     "output_type": "stream",
     "text": [
      "ImageNet-1k Test acc = 0.76478\n",
      "ImageNet-v2 Test acc = 0.6948\n",
      "ImageNet-Sketch Test acc = 0.5478983670341331\n",
      "ImageNet-A Test acc = 0.5244\n",
      "ImageNet-R Test acc = 0.8130333333333334\n",
      "Avg OOD Test acc = 0.6450329250918666\n"
     ]
    },
    {
     "name": "stderr",
     "output_type": "stream",
     "text": [
      "\n"
     ]
    }
   ],
   "source": [
    "checkpoint = torch.load(model_path)\n",
    "clip_model.load_state_dict(checkpoint['clip_model'])\n",
    "classifier.load_state_dict(checkpoint['classifier'])\n",
    "\n",
    "results_dict = {}\n",
    "for test_dataset in [imagenet_test, imagenetv2_test, imagenet_sketch_test, imagenet_a_test,\n",
    "                     imagenet_r_test]:\n",
    "\n",
    "    dataset_name = test_dataset.dataset_name\n",
    "    test_dataloader = torch.utils.data.DataLoader(\n",
    "        dataset=test_dataset,\n",
    "        batch_size=64,\n",
    "        shuffle=False,\n",
    "        num_workers=4)\n",
    "    test_label_map = test_dataset.label_map\n",
    "\n",
    "    clip_model.eval()\n",
    "    classifier.eval()\n",
    "    with torch.no_grad():\n",
    "        targets_list = []\n",
    "        preds_list = []\n",
    "\n",
    "        pbar_iter = tqdm.tqdm(test_dataloader)\n",
    "        for idx, (inputs, targets) in enumerate(pbar_iter):\n",
    "            pbar_iter.set_description(f\"{dataset_name} test\")\n",
    "            inputs = inputs.to(device)\n",
    "            targets = targets.to(device)\n",
    "\n",
    "            image_features = clip_model.encode_image(inputs)\n",
    "            image_features = image_features / image_features.norm(dim=-1, keepdim=True)\n",
    "            outputs = classifier(image_features)\n",
    "            outputs = outputs[:,test_label_map] # map the logits to the test dataset, primarily for ImageNet-A and ImageNet-R\n",
    "\n",
    "            targets_list.append(targets.detach().cpu().numpy())\n",
    "            preds_list.append(outputs.detach().cpu().numpy())\n",
    "\n",
    "    targets_list = np.hstack(targets_list)\n",
    "    preds_list = np.vstack(preds_list)\n",
    "    preds_list = torch.tensor(preds_list)\n",
    "    test_acc = (torch.softmax(preds_list, dim=1).argmax(1).numpy() == targets_list).mean()\n",
    "\n",
    "    results_dict[dataset_name] = {'pred_logits': preds_list.numpy(), 'targets': targets_list, 'test_acc': test_acc}\n",
    "\n",
    "ood = []\n",
    "for dataset_name in results_dict.keys():\n",
    "    print(f\"{dataset_name} Test acc = {results_dict[dataset_name]['test_acc']}\")\n",
    "    if dataset_name != 'ImageNet-1k':\n",
    "        ood.append(results_dict[dataset_name]['test_acc'])\n",
    "avg_ood = np.mean(ood)\n",
    "print(f\"Avg OOD Test acc = {avg_ood}\")"
   ]
  }
 ],
 "metadata": {
  "kernelspec": {
   "display_name": "lca",
   "language": "python",
   "name": "python3"
  },
  "language_info": {
   "codemirror_mode": {
    "name": "ipython",
    "version": 3
   },
   "file_extension": ".py",
   "mimetype": "text/x-python",
   "name": "python",
   "nbconvert_exporter": "python",
   "pygments_lexer": "ipython3",
   "version": "3.10.16"
  }
 },
 "nbformat": 4,
 "nbformat_minor": 5
}
